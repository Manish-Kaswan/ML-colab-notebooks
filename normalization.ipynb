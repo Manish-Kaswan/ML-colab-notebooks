{
 "cells": [
  {
   "cell_type": "code",
   "execution_count": 1,
   "metadata": {},
   "outputs": [],
   "source": [
    "import numpy as np"
   ]
  },
  {
   "cell_type": "code",
   "execution_count": 33,
   "metadata": {},
   "outputs": [],
   "source": [
    "s = np.array([10,12,13,15,20,23,25,1])\n",
    "\n",
    "m = np.mean(s)\n",
    "sd = np.std(s)\n",
    "sz = (s-m)/sd\n",
    "sz = np.round(sz,2).flatten()\n",
    "\n",
    "smax = np.max(s)\n",
    "smin = np.min(s)\n",
    "sminmax = (s-smin)/(smax-smin)\n",
    "sminmax = np.round(sminmax,2).flatten()\n",
    "\n",
    "nmin = 1\n",
    "nmax = 25\n",
    "sminmaxcustom = (s-smin)/(smax-smin)* (nmax-nmin) + nmin\n",
    "sminmaxcustom = np.round(sminmaxcustom,2).flatten()"
   ]
  },
  {
   "cell_type": "code",
   "execution_count": 34,
   "metadata": {},
   "outputs": [
    {
     "name": "stdout",
     "output_type": "stream",
     "text": [
      "[-0.67 -0.4  -0.26  0.02  0.7   1.12  1.39 -1.91]\n",
      "[0.38 0.46 0.5  0.58 0.79 0.92 1.   0.  ]\n",
      "[10. 12. 13. 15. 20. 23. 25.  1.]\n"
     ]
    }
   ],
   "source": [
    "print(sz)\n",
    "print(sminmax)\n",
    "print(sminmaxcustom)"
   ]
  }
 ],
 "metadata": {
  "kernelspec": {
   "display_name": "Python 3",
   "language": "python",
   "name": "python3"
  },
  "language_info": {
   "codemirror_mode": {
    "name": "ipython",
    "version": 3
   },
   "file_extension": ".py",
   "mimetype": "text/x-python",
   "name": "python",
   "nbconvert_exporter": "python",
   "pygments_lexer": "ipython3",
   "version": "3.11.0"
  }
 },
 "nbformat": 4,
 "nbformat_minor": 2
}
