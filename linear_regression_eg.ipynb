{
  "cells": [
    {
      "cell_type": "markdown",
      "metadata": {
        "id": "view-in-github",
        "colab_type": "text"
      },
      "source": [
        "<a href=\"https://colab.research.google.com/github/Manish-Kaswan/ML-colab-notebooks/blob/main/linear_regression_eg.ipynb\" target=\"_parent\"><img src=\"https://colab.research.google.com/assets/colab-badge.svg\" alt=\"Open In Colab\"/></a>"
      ]
    },
    {
      "cell_type": "code",
      "execution_count": 1,
      "metadata": {
        "id": "SVTKoa1oMWtA"
      },
      "outputs": [],
      "source": [
        "import numpy as np\n",
        "import pandas as pd\n",
        "import copy\n",
        "import math\n",
        "import matplotlib.pyplot as plt"
      ]
    },
    {
      "cell_type": "code",
      "execution_count": 2,
      "metadata": {
        "id": "S3m58fxIMWtB"
      },
      "outputs": [],
      "source": [
        "def cal_error(X,y,w,b):\n",
        "    m = X.shape[0]\n",
        "    err = 0\n",
        "    for i in range(m):\n",
        "        fw_b = (X[i]*w+b-y[i])**2\n",
        "        err += fw_b\n",
        "    err = err/(2*m)\n",
        "    return err"
      ]
    },
    {
      "cell_type": "code",
      "execution_count": 3,
      "metadata": {
        "id": "zoW6bvRRMWtB"
      },
      "outputs": [],
      "source": [
        "def gradient(x,y,w,b):\n",
        "    m = x.shape[0]\n",
        "    djw = 0\n",
        "    djb = 0\n",
        "    for i in range(m):\n",
        "        temp_w = (x[i]*w + b - y[i])*x[i]\n",
        "        temp_b = (x[i]*w + b - y[i])\n",
        "        djw += temp_w\n",
        "        djb += temp_b\n",
        "    djw = djw/m\n",
        "    djb = djb/m\n",
        "    return djw, djb"
      ]
    },
    {
      "cell_type": "code",
      "execution_count": 4,
      "metadata": {
        "id": "otuJX-epMWtB"
      },
      "outputs": [],
      "source": [
        "def grad_descent(x,y,w_in,b_in,iter,alpha,gradient_fun,cal_error_fun):\n",
        "    w = copy.deepcopy(w_in)\n",
        "    j = []\n",
        "    p = []\n",
        "    w = w_in\n",
        "    b = b_in\n",
        "    for i in range(iter):\n",
        "        djw,djb = gradient_fun(x,y,w,b)\n",
        "        w = w-alpha*djw\n",
        "        b = b-alpha*djb\n",
        "        cost = cal_error_fun(x,y,w,b)\n",
        "        if i<100000:\n",
        "            p.append([w,b])\n",
        "            j.append(cost)\n",
        "        if i% math.ceil(iter/10) == 0:\n",
        "            print(f\"Iteration {i:4}: Cost {j[-1]} \",\n",
        "                  f\"dj_dw: {djw: 0.3e}, dj_db: {djb: 0.3e}  \",\n",
        "                  f\"w: {w: 0.3e}, b:{b: 0.5e}\")\n",
        "    return w,b,p,j"
      ]
    },
    {
      "cell_type": "code",
      "execution_count": 5,
      "metadata": {
        "id": "Znr-ps3tMWtC"
      },
      "outputs": [],
      "source": [
        "df = pd.read_csv('https://raw.githubusercontent.com/Manish-Kaswan/ML-colab-notebooks/main/happy_index.csv')\n",
        "\n",
        "\n",
        "#x = df['GDP per capita'].values\n",
        "#x = df['Perceptions of corruption'].values\n",
        "x = df['Social support'].values\n",
        "y = df['Score'].values\n",
        "x_train = x[:150]\n",
        "y_train = y[:150]\n",
        "x_test = x[151:]\n",
        "y_test = y[151:]"
      ]
    },
    {
      "cell_type": "code",
      "source": [
        "print(x_test)"
      ],
      "metadata": {
        "id": "Tcv6pmqAOPPT",
        "outputId": "54b6ee69-f6f0-4074-a7da-a957ec7a8591",
        "colab": {
          "base_uri": "https://localhost:8080/"
        }
      },
      "execution_count": 6,
      "outputs": [
        {
          "output_type": "stream",
          "name": "stdout",
          "text": [
            "[0.711 0.885 0.517 0.    0.575]\n"
          ]
        }
      ]
    },
    {
      "cell_type": "code",
      "execution_count": 7,
      "metadata": {
        "id": "_-oF2TPzMWtC",
        "outputId": "82da83f8-dc4f-4585-daf7-3f379ad0ba29",
        "colab": {
          "base_uri": "https://localhost:8080/",
          "height": 449
        }
      },
      "outputs": [
        {
          "output_type": "display_data",
          "data": {
            "text/plain": [
              "<Figure size 640x480 with 1 Axes>"
            ],
            "image/png": "[encoded data removed]"
          },
          "metadata": {}
        }
      ],
      "source": [
        "plt.plot(x_train,y_train,'o')\n",
        "plt.xlabel('Gdp')\n",
        "plt.ylabel('score')\n",
        "plt.show()"
      ]
    },
    {
      "cell_type": "code",
      "execution_count": 8,
      "metadata": {
        "id": "-ynrtTdIMWtC",
        "outputId": "b62bbdf5-b5d7-4ff7-c899-4186318ba5d9",
        "colab": {
          "base_uri": "https://localhost:8080/",
          "height": 206
        }
      },
      "outputs": [
        {
          "output_type": "execute_result",
          "data": {
            "text/plain": [
              "     Overall rank         Country or region  Score  GDP per capita  \\\n",
              "151           152                    Rwanda  3.334           0.359   \n",
              "152           153                  Tanzania  3.231           0.476   \n",
              "153           154               Afghanistan  3.203           0.350   \n",
              "154           155  Central African Republic  3.083           0.026   \n",
              "155           156               South Sudan  2.853           0.306   \n",
              "\n",
              "     Social support  Healthy life expectancy  Freedom to make life choices  \\\n",
              "151           0.711                    0.614                         0.555   \n",
              "152           0.885                    0.499                         0.417   \n",
              "153           0.517                    0.361                         0.000   \n",
              "154           0.000                    0.105                         0.225   \n",
              "155           0.575                    0.295                         0.010   \n",
              "\n",
              "     Generosity  Perceptions of corruption  \n",
              "151       0.217                      0.411  \n",
              "152       0.276                      0.147  \n",
              "153       0.158                      0.025  \n",
              "154       0.235                      0.035  \n",
              "155       0.202                      0.091  "
            ],
            "text/html": [
              "\n",
              "  <div id=\"df-997f4819-749c-4571-899f-eeee080e1269\" class=\"colab-df-container\">\n",
              "    <div>\n",
              "<style scoped>\n",
              "    .dataframe tbody tr th:only-of-type {\n",
              "        vertical-align: middle;\n",
              "    }\n",
              "\n",
              "    .dataframe tbody tr th {\n",
              "        vertical-align: top;\n",
              "    }\n",
              "\n",
              "    .dataframe thead th {\n",
              "        text-align: right;\n",
              "    }\n",
              "</style>\n",
              "<table border=\"1\" class=\"dataframe\">\n",
              "  <thead>\n",
              "    <tr style=\"text-align: right;\">\n",
              "      <th></th>\n",
              "      <th>Overall rank</th>\n",
              "      <th>Country or region</th>\n",
              "      <th>Score</th>\n",
              "      <th>GDP per capita</th>\n",
              "      <th>Social support</th>\n",
              "      <th>Healthy life expectancy</th>\n",
              "      <th>Freedom to make life choices</th>\n",
              "      <th>Generosity</th>\n",
              "      <th>Perceptions of corruption</th>\n",
              "    </tr>\n",
              "  </thead>\n",
              "  <tbody>\n",
              "    <tr>\n",
              "      <th>151</th>\n",
              "      <td>152</td>\n",
              "      <td>Rwanda</td>\n",
              "      <td>3.334</td>\n",
              "      <td>0.359</td>\n",
              "      <td>0.711</td>\n",
              "      <td>0.614</td>\n",
              "      <td>0.555</td>\n",
              "      <td>0.217</td>\n",
              "      <td>0.411</td>\n",
              "    </tr>\n",
              "    <tr>\n",
              "      <th>152</th>\n",
              "      <td>153</td>\n",
              "      <td>Tanzania</td>\n",
              "      <td>3.231</td>\n",
              "      <td>0.476</td>\n",
              "      <td>0.885</td>\n",
              "      <td>0.499</td>\n",
              "      <td>0.417</td>\n",
              "      <td>0.276</td>\n",
              "      <td>0.147</td>\n",
              "    </tr>\n",
              "    <tr>\n",
              "      <th>153</th>\n",
              "      <td>154</td>\n",
              "      <td>Afghanistan</td>\n",
              "      <td>3.203</td>\n",
              "      <td>0.350</td>\n",
              "      <td>0.517</td>\n",
              "      <td>0.361</td>\n",
              "      <td>0.000</td>\n",
              "      <td>0.158</td>\n",
              "      <td>0.025</td>\n",
              "    </tr>\n",
              "    <tr>\n",
              "      <th>154</th>\n",
              "      <td>155</td>\n",
              "      <td>Central African Republic</td>\n",
              "      <td>3.083</td>\n",
              "      <td>0.026</td>\n",
              "      <td>0.000</td>\n",
              "      <td>0.105</td>\n",
              "      <td>0.225</td>\n",
              "      <td>0.235</td>\n",
              "      <td>0.035</td>\n",
              "    </tr>\n",
              "    <tr>\n",
              "      <th>155</th>\n",
              "      <td>156</td>\n",
              "      <td>South Sudan</td>\n",
              "      <td>2.853</td>\n",
              "      <td>0.306</td>\n",
              "      <td>0.575</td>\n",
              "      <td>0.295</td>\n",
              "      <td>0.010</td>\n",
              "      <td>0.202</td>\n",
              "      <td>0.091</td>\n",
              "    </tr>\n",
              "  </tbody>\n",
              "</table>\n",
              "</div>\n",
              "    <div class=\"colab-df-buttons\">\n",
              "\n",
              "  <div class=\"colab-df-container\">\n",
              "    <button class=\"colab-df-convert\" onclick=\"convertToInteractive('df-997f4819-749c-4571-899f-eeee080e1269')\"\n",
              "            title=\"Convert this dataframe to an interactive table.\"\n",
              "            style=\"display:none;\">\n",
              "\n",
              "  <svg xmlns=\"http://www.w3.org/2000/svg\" height=\"24px\" viewBox=\"0 -960 960 960\">\n",
              "    <path d=\"M120-120v-720h720v720H120Zm60-500h600v-160H180v160Zm220 220h160v-160H400v160Zm0 220h160v-160H400v160ZM180-400h160v-160H180v160Zm440 0h160v-160H620v160ZM180-180h160v-160H180v160Zm440 0h160v-160H620v160Z\"/>\n",
              "  </svg>\n",
              "    </button>\n",
              "\n",
              "  <style>\n",
              "    .colab-df-container {\n",
              "      display:flex;\n",
              "      gap: 12px;\n",
              "    }\n",
              "\n",
              "    .colab-df-convert {\n",
              "      background-color: #E8F0FE;\n",
              "      border: none;\n",
              "      border-radius: 50%;\n",
              "      cursor: pointer;\n",
              "      display: none;\n",
              "      fill: #1967D2;\n",
              "      height: 32px;\n",
              "      padding: 0 0 0 0;\n",
              "      width: 32px;\n",
              "    }\n",
              "\n",
              "    .colab-df-convert:hover {\n",
              "      background-color: #E2EBFA;\n",
              "      box-shadow: 0px 1px 2px rgba(60, 64, 67, 0.3), 0px 1px 3px 1px rgba(60, 64, 67, 0.15);\n",
              "      fill: #174EA6;\n",
              "    }\n",
              "\n",
              "    .colab-df-buttons div {\n",
              "      margin-bottom: 4px;\n",
              "    }\n",
              "\n",
              "    [theme=dark] .colab-df-convert {\n",
              "      background-color: #3B4455;\n",
              "      fill: #D2E3FC;\n",
              "    }\n",
              "\n",
              "    [theme=dark] .colab-df-convert:hover {\n",
              "      background-color: #434B5C;\n",
              "      box-shadow: 0px 1px 3px 1px rgba(0, 0, 0, 0.15);\n",
              "      filter: drop-shadow(0px 1px 2px rgba(0, 0, 0, 0.3));\n",
              "      fill: #FFFFFF;\n",
              "    }\n",
              "  </style>\n",
              "\n",
              "    <script>\n",
              "      const buttonEl =\n",
              "        document.querySelector('#df-997f4819-749c-4571-899f-eeee080e1269 button.colab-df-convert');\n",
              "      buttonEl.style.display =\n",
              "        google.colab.kernel.accessAllowed ? 'block' : 'none';\n",
              "\n",
              "      async function convertToInteractive(key) {\n",
              "        const element = document.querySelector('#df-997f4819-749c-4571-899f-eeee080e1269');\n",
              "        const dataTable =\n",
              "          await google.colab.kernel.invokeFunction('convertToInteractive',\n",
              "                                                    [key], {});\n",
              "        if (!dataTable) return;\n",
              "\n",
              "        const docLinkHtml = 'Like what you see? Visit the ' +\n",
              "          '<a target=\"_blank\" href=https://colab.research.google.com/notebooks/data_table.ipynb>data table notebook</a>'\n",
              "          + ' to learn more about interactive tables.';\n",
              "        element.innerHTML = '';\n",
              "        dataTable['output_type'] = 'display_data';\n",
              "        await google.colab.output.renderOutput(dataTable, element);\n",
              "        const docLink = document.createElement('div');\n",
              "        docLink.innerHTML = docLinkHtml;\n",
              "        element.appendChild(docLink);\n",
              "      }\n",
              "    </script>\n",
              "  </div>\n",
              "\n",
              "\n",
              "<div id=\"df-198a1490-9ec8-4d32-bcb4-bcc652556078\">\n",
              "  <button class=\"colab-df-quickchart\" onclick=\"quickchart('df-198a1490-9ec8-4d32-bcb4-bcc652556078')\"\n",
              "            title=\"Suggest charts\"\n",
              "            style=\"display:none;\">\n",
              "\n",
              "<svg xmlns=\"http://www.w3.org/2000/svg\" height=\"24px\"viewBox=\"0 0 24 24\"\n",
              "     width=\"24px\">\n",
              "    <g>\n",
              "        <path d=\"M19 3H5c-1.1 0-2 .9-2 2v14c0 1.1.9 2 2 2h14c1.1 0 2-.9 2-2V5c0-1.1-.9-2-2-2zM9 17H7v-7h2v7zm4 0h-2V7h2v10zm4 0h-2v-4h2v4z\"/>\n",
              "    </g>\n",
              "</svg>\n",
              "  </button>\n",
              "\n",
              "<style>\n",
              "  .colab-df-quickchart {\n",
              "      --bg-color: #E8F0FE;\n",
              "      --fill-color: #1967D2;\n",
              "      --hover-bg-color: #E2EBFA;\n",
              "      --hover-fill-color: #174EA6;\n",
              "      --disabled-fill-color: #AAA;\n",
              "      --disabled-bg-color: #DDD;\n",
              "  }\n",
              "\n",
              "  [theme=dark] .colab-df-quickchart {\n",
              "      --bg-color: #3B4455;\n",
              "      --fill-color: #D2E3FC;\n",
              "      --hover-bg-color: #434B5C;\n",
              "      --hover-fill-color: #FFFFFF;\n",
              "      --disabled-bg-color: #3B4455;\n",
              "      --disabled-fill-color: #666;\n",
              "  }\n",
              "\n",
              "  .colab-df-quickchart {\n",
              "    background-color: var(--bg-color);\n",
              "    border: none;\n",
              "    border-radius: 50%;\n",
              "    cursor: pointer;\n",
              "    display: none;\n",
              "    fill: var(--fill-color);\n",
              "    height: 32px;\n",
              "    padding: 0;\n",
              "    width: 32px;\n",
              "  }\n",
              "\n",
              "  .colab-df-quickchart:hover {\n",
              "    background-color: var(--hover-bg-color);\n",
              "    box-shadow: 0 1px 2px rgba(60, 64, 67, 0.3), 0 1px 3px 1px rgba(60, 64, 67, 0.15);\n",
              "    fill: var(--button-hover-fill-color);\n",
              "  }\n",
              "\n",
              "  .colab-df-quickchart-complete:disabled,\n",
              "  .colab-df-quickchart-complete:disabled:hover {\n",
              "    background-color: var(--disabled-bg-color);\n",
              "    fill: var(--disabled-fill-color);\n",
              "    box-shadow: none;\n",
              "  }\n",
              "\n",
              "  .colab-df-spinner {\n",
              "    border: 2px solid var(--fill-color);\n",
              "    border-color: transparent;\n",
              "    border-bottom-color: var(--fill-color);\n",
              "    animation:\n",
              "      spin 1s steps(1) infinite;\n",
              "  }\n",
              "\n",
              "  @keyframes spin {\n",
              "    0% {\n",
              "      border-color: transparent;\n",
              "      border-bottom-color: var(--fill-color);\n",
              "      border-left-color: var(--fill-color);\n",
              "    }\n",
              "    20% {\n",
              "      border-color: transparent;\n",
              "      border-left-color: var(--fill-color);\n",
              "      border-top-color: var(--fill-color);\n",
              "    }\n",
              "    30% {\n",
              "      border-color: transparent;\n",
              "      border-left-color: var(--fill-color);\n",
              "      border-top-color: var(--fill-color);\n",
              "      border-right-color: var(--fill-color);\n",
              "    }\n",
              "    40% {\n",
              "      border-color: transparent;\n",
              "      border-right-color: var(--fill-color);\n",
              "      border-top-color: var(--fill-color);\n",
              "    }\n",
              "    60% {\n",
              "      border-color: transparent;\n",
              "      border-right-color: var(--fill-color);\n",
              "    }\n",
              "    80% {\n",
              "      border-color: transparent;\n",
              "      border-right-color: var(--fill-color);\n",
              "      border-bottom-color: var(--fill-color);\n",
              "    }\n",
              "    90% {\n",
              "      border-color: transparent;\n",
              "      border-bottom-color: var(--fill-color);\n",
              "    }\n",
              "  }\n",
              "</style>\n",
              "\n",
              "  <script>\n",
              "    async function quickchart(key) {\n",
              "      const quickchartButtonEl =\n",
              "        document.querySelector('#' + key + ' button');\n",
              "      quickchartButtonEl.disabled = true;  // To prevent multiple clicks.\n",
              "      quickchartButtonEl.classList.add('colab-df-spinner');\n",
              "      try {\n",
              "        const charts = await google.colab.kernel.invokeFunction(\n",
              "            'suggestCharts', [key], {});\n",
              "      } catch (error) {\n",
              "        console.error('Error during call to suggestCharts:', error);\n",
              "      }\n",
              "      quickchartButtonEl.classList.remove('colab-df-spinner');\n",
              "      quickchartButtonEl.classList.add('colab-df-quickchart-complete');\n",
              "    }\n",
              "    (() => {\n",
              "      let quickchartButtonEl =\n",
              "        document.querySelector('#df-198a1490-9ec8-4d32-bcb4-bcc652556078 button');\n",
              "      quickchartButtonEl.style.display =\n",
              "        google.colab.kernel.accessAllowed ? 'block' : 'none';\n",
              "    })();\n",
              "  </script>\n",
              "</div>\n",
              "\n",
              "    </div>\n",
              "  </div>\n"
            ],
            "application/vnd.google.colaboratory.intrinsic+json": {
              "type": "dataframe",
              "summary": "{\n  \"name\": \"df\",\n  \"rows\": 5,\n  \"fields\": [\n    {\n      \"column\": \"Overall rank\",\n      \"properties\": {\n        \"dtype\": \"number\",\n        \"std\": 1,\n        \"min\": 152,\n        \"max\": 156,\n        \"num_unique_values\": 5,\n        \"samples\": [\n          153,\n          156,\n          154\n        ],\n        \"semantic_type\": \"\",\n        \"description\": \"\"\n      }\n    },\n    {\n      \"column\": \"Country or region\",\n      \"properties\": {\n        \"dtype\": \"string\",\n        \"num_unique_values\": 5,\n        \"samples\": [\n          \"Tanzania\",\n          \"South Sudan\",\n          \"Afghanistan\"\n        ],\n        \"semantic_type\": \"\",\n        \"description\": \"\"\n      }\n    },\n    {\n      \"column\": \"Score\",\n      \"properties\": {\n        \"dtype\": \"number\",\n        \"std\": 0.18405216651808248,\n        \"min\": 2.853,\n        \"max\": 3.334,\n        \"num_unique_values\": 5,\n        \"samples\": [\n          3.231,\n          2.853,\n          3.203\n        ],\n        \"semantic_type\": \"\",\n        \"description\": \"\"\n      }\n    },\n    {\n      \"column\": \"GDP per capita\",\n      \"properties\": {\n        \"dtype\": \"number\",\n        \"std\": 0.16734037169792587,\n        \"min\": 0.026,\n        \"max\": 0.476,\n        \"num_unique_values\": 5,\n        \"samples\": [\n          0.476,\n          0.306,\n          0.35\n        ],\n        \"semantic_type\": \"\",\n        \"description\": \"\"\n      }\n    },\n    {\n      \"column\": \"Social support\",\n      \"properties\": {\n        \"dtype\": \"number\",\n        \"std\": 0.3322616438892699,\n        \"min\": 0.0,\n        \"max\": 0.885,\n        \"num_unique_values\": 5,\n        \"samples\": [\n          0.885,\n          0.575,\n          0.517\n        ],\n        \"semantic_type\": \"\",\n        \"description\": \"\"\n      }\n    },\n    {\n      \"column\": \"Healthy life expectancy\",\n      \"properties\": {\n        \"dtype\": \"number\",\n        \"std\": 0.19493126993891977,\n        \"min\": 0.105,\n        \"max\": 0.614,\n        \"num_unique_values\": 5,\n        \"samples\": [\n          0.499,\n          0.295,\n          0.361\n        ],\n        \"semantic_type\": \"\",\n        \"description\": \"\"\n      }\n    },\n    {\n      \"column\": \"Freedom to make life choices\",\n      \"properties\": {\n        \"dtype\": \"number\",\n        \"std\": 0.2455958061531182,\n        \"min\": 0.0,\n        \"max\": 0.555,\n        \"num_unique_values\": 5,\n        \"samples\": [\n          0.417,\n          0.01,\n          0.0\n        ],\n        \"semantic_type\": \"\",\n        \"description\": \"\"\n      }\n    },\n    {\n      \"column\": \"Generosity\",\n      \"properties\": {\n        \"dtype\": \"number\",\n        \"std\": 0.04332782016210832,\n        \"min\": 0.158,\n        \"max\": 0.276,\n        \"num_unique_values\": 5,\n        \"samples\": [\n          0.276,\n          0.202,\n          0.158\n        ],\n        \"semantic_type\": \"\",\n        \"description\": \"\"\n      }\n    },\n    {\n      \"column\": \"Perceptions of corruption\",\n      \"properties\": {\n        \"dtype\": \"number\",\n        \"std\": 0.15821251530773411,\n        \"min\": 0.025,\n        \"max\": 0.411,\n        \"num_unique_values\": 5,\n        \"samples\": [\n          0.147,\n          0.091,\n          0.025\n        ],\n        \"semantic_type\": \"\",\n        \"description\": \"\"\n      }\n    }\n  ]\n}"
            }
          },
          "metadata": {},
          "execution_count": 8
        }
      ],
      "source": [
        "df.iloc[151:156]"
      ]
    },
    {
      "cell_type": "code",
      "execution_count": 9,
      "metadata": {
        "id": "V7kVqva7MWtD",
        "outputId": "8bbe91a5-8d2f-48fa-8f74-32ea5849d07f",
        "colab": {
          "base_uri": "https://localhost:8080/"
        }
      },
      "outputs": [
        {
          "output_type": "stream",
          "name": "stdout",
          "text": [
            "Iteration    0: Cost 14.489513473287353  dj_dw: -6.793e+00, dj_db: -5.407e+00   w:  6.793e-02, b: 5.40710e-02\n",
            "Iteration 1000: Cost 0.24469647825001845  dj_dw: -4.777e-03, dj_db:  5.986e-03   w:  2.756e+00, b: 2.08161e+00\n",
            "Iteration 2000: Cost 0.24427635252238958  dj_dw: -3.353e-03, dj_db:  4.202e-03   w:  2.796e+00, b: 2.03121e+00\n",
            "Iteration 3000: Cost 0.24406927677327928  dj_dw: -2.354e-03, dj_db:  2.950e-03   w:  2.824e+00, b: 1.99582e+00\n",
            "Iteration 4000: Cost 0.24396721121754292  dj_dw: -1.653e-03, dj_db:  2.071e-03   w:  2.844e+00, b: 1.97097e+00\n",
            "Iteration 5000: Cost 0.24391690413082456  dj_dw: -1.160e-03, dj_db:  1.454e-03   w:  2.858e+00, b: 1.95353e+00\n",
            "Iteration 6000: Cost 0.24389210827334026  dj_dw: -8.147e-04, dj_db:  1.021e-03   w:  2.868e+00, b: 1.94129e+00\n",
            "Iteration 7000: Cost 0.24387988664437138  dj_dw: -5.720e-04, dj_db:  7.167e-04   w:  2.875e+00, b: 1.93269e+00\n",
            "Iteration 8000: Cost 0.2438738627262734  dj_dw: -4.015e-04, dj_db:  5.032e-04   w:  2.880e+00, b: 1.92665e+00\n",
            "Iteration 9000: Cost 0.24387089359758007  dj_dw: -2.819e-04, dj_db:  3.533e-04   w:  2.883e+00, b: 1.92242e+00\n",
            "w = 2.885390938552359, b = 1.9194429144921927\n"
          ]
        }
      ],
      "source": [
        "w_init = 0\n",
        "b_init = 0\n",
        "iterations = 10000\n",
        "temp_alpha = 0.01\n",
        "\n",
        "w_final, b_final, j_hist, p_hist = grad_descent(x,y,w_init,b_init,10000,temp_alpha,gradient,cal_error)\n",
        "print(f\"w = {w_final}, b = {b_final}\")"
      ]
    },
    {
      "cell_type": "code",
      "execution_count": 10,
      "metadata": {
        "id": "UzBmiUQvMWtD",
        "outputId": "6b8c97f0-8f01-4cc7-dc51-502edda95bc3",
        "colab": {
          "base_uri": "https://localhost:8080/"
        }
      },
      "outputs": [
        {
          "output_type": "stream",
          "name": "stdout",
          "text": [
            "0.711 0.885 0.517 0.0 0.575\n",
            "3.334 3.231 3.203 3.083 2.853\n"
          ]
        }
      ],
      "source": [
        "print(*x_test)\n",
        "print(*y_test)"
      ]
    },
    {
      "cell_type": "code",
      "execution_count": 11,
      "metadata": {
        "id": "F3bMy29oMWtD",
        "outputId": "c7e04826-5c2a-40f7-ea6c-fc0678029928",
        "colab": {
          "base_uri": "https://localhost:8080/"
        }
      },
      "outputs": [
        {
          "output_type": "stream",
          "name": "stdout",
          "text": [
            "3.97095587180292 4.4730138951110305 3.4111900297237625 1.9194429144921927 3.578542704159799\n"
          ]
        }
      ],
      "source": [
        "pred = x_test*w_final + b_final\n",
        "print(*pred)"
      ]
    },
    {
      "cell_type": "code",
      "execution_count": 12,
      "metadata": {
        "id": "Sb6xXn2fMWtD",
        "outputId": "533d129a-f654-4782-c5bc-2246362160e3",
        "colab": {
          "base_uri": "https://localhost:8080/"
        }
      },
      "outputs": [
        {
          "output_type": "stream",
          "name": "stdout",
          "text": [
            "0.387193169354441\n"
          ]
        }
      ],
      "source": [
        "print(cal_error(x_test,y_test,w_final,b_final))\n",
        "#0.4827150252712132"
      ]
    },
    {
      "cell_type": "code",
      "execution_count": 13,
      "metadata": {
        "id": "cGSUA6NMMWtE",
        "outputId": "43e2eef1-c509-4ea1-88fe-313fbf81ce96",
        "colab": {
          "base_uri": "https://localhost:8080/",
          "height": 472
        }
      },
      "outputs": [
        {
          "output_type": "display_data",
          "data": {
            "text/plain": [
              "<Figure size 640x480 with 1 Axes>"
            ],
            "image/png": "[encoded data removed]"
          },
          "metadata": {}
        }
      ],
      "source": [
        "# Assuming x_train, y_train, w_final, and b_final are defined\n",
        "\n",
        "# Scatter plot with transparency\n",
        "plt.scatter(x_train, y_train, alpha=0.7, label='Training Data')\n",
        "\n",
        "# Calculate predicted values\n",
        "y_predicted = w_final * x_train + b_final\n",
        "\n",
        "# Line plot\n",
        "plt.plot(x_train, y_predicted, color='r', label='Predicted Values')\n",
        "\n",
        "# Set labels and title\n",
        "plt.xlabel('Gdp')\n",
        "plt.ylabel('score')\n",
        "plt.title('Linear Regression: Training Data and Predictions')\n",
        "\n",
        "# Add legend\n",
        "plt.legend()\n",
        "\n",
        "# Show the combined plot\n",
        "plt.show()\n"
      ]
    },
    {
      "cell_type": "code",
      "execution_count": 14,
      "metadata": {
        "id": "GgkpE1r4MWtE",
        "outputId": "e3dcedf2-fcc9-47d8-da7c-e7c71692a7df",
        "colab": {
          "base_uri": "https://localhost:8080/",
          "height": 449
        }
      },
      "outputs": [
        {
          "output_type": "display_data",
          "data": {
            "text/plain": [
              "<Figure size 640x480 with 1 Axes>"
            ],
            "image/png": "[encoded data removed]"
          },
          "metadata": {}
        }
      ],
      "source": [
        "plt.plot(x_test,pred,'o')\n",
        "plt.xlabel('test data gdp')\n",
        "plt.ylabel('pred')\n",
        "plt.show()"
      ]
    },
    {
      "cell_type": "code",
      "execution_count": 15,
      "metadata": {
        "id": "06cpHN0lMWtE",
        "outputId": "7a63d9cb-13a7-4b80-efa2-628782100a01",
        "colab": {
          "base_uri": "https://localhost:8080/",
          "height": 449
        }
      },
      "outputs": [
        {
          "output_type": "display_data",
          "data": {
            "text/plain": [
              "<Figure size 640x480 with 1 Axes>"
            ],
            "image/png": "[encoded data removed]"
          },
          "metadata": {}
        }
      ],
      "source": [
        "plt.plot(x_test,y_test,'o')\n",
        "plt.xlabel('test data gdp')\n",
        "plt.ylabel('y test')\n",
        "plt.show()"
      ]
    }
  ],
  "metadata": {
    "kernelspec": {
      "display_name": "Python 3",
      "language": "python",
      "name": "python3"
    },
    "language_info": {
      "codemirror_mode": {
        "name": "ipython",
        "version": 3
      },
      "file_extension": ".py",
      "mimetype": "text/x-python",
      "name": "python",
      "nbconvert_exporter": "python",
      "pygments_lexer": "ipython3",
      "version": "3.11.0"
    },
    "colab": {
      "provenance": [],
      "include_colab_link": true
    }
  },
  "nbformat": 4,
  "nbformat_minor": 0
}