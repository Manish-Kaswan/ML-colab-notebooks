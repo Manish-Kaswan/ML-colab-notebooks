{
  "cells": [
    {
      "cell_type": "markdown",
      "metadata": {
        "id": "view-in-github",
        "colab_type": "text"
      },
      "source": [
        "<a href=\"https://colab.research.google.com/github/Manish-Kaswan/ML-colab-notebooks/blob/main/multiple_regression.ipynb\" target=\"_parent\"><img src=\"https://colab.research.google.com/assets/colab-badge.svg\" alt=\"Open In Colab\"/></a>"
      ]
    },
    {
      "cell_type": "code",
      "execution_count": 1,
      "metadata": {
        "id": "FxOBtNNDyoTx"
      },
      "outputs": [],
      "source": [
        "import numpy as np\n",
        "import pandas as pd\n",
        "import matplotlib.pyplot as plt\n",
        "import math\n",
        "import copy"
      ]
    },
    {
      "cell_type": "code",
      "execution_count": 2,
      "metadata": {
        "id": "ldhqRFoXyoTy"
      },
      "outputs": [],
      "source": [
        "def compute_cost(x,y,w,b):\n",
        "    m = x.shape[0]\n",
        "    err = 0\n",
        "    for i in range(m):\n",
        "        fw_b = np.dot(x[i],w)+b\n",
        "        err += (fw_b-y[i])**2\n",
        "    err = err/(2*m)\n",
        "    return err"
      ]
    },
    {
      "cell_type": "code",
      "execution_count": 3,
      "metadata": {
        "id": "behAl1ZhyoTy"
      },
      "outputs": [],
      "source": [
        "def gradient(x,y,w,b):\n",
        "    m,n = x.shape\n",
        "    djw = np.zeros((n,))\n",
        "    djb = 0\n",
        "    for i in range(m):\n",
        "        temp_dw = (np.dot(x[i],w)+b-y[i])\n",
        "        djb += np.dot(x[i],w)+b-y[i]\n",
        "        for j in range(n):\n",
        "            djw += temp_dw*x[i,j]\n",
        "    djw = djw/m\n",
        "    djb = djb/m\n",
        "    return djw,djb"
      ]
    },
    {
      "cell_type": "code",
      "execution_count": 4,
      "metadata": {
        "id": "TPw9W0C4yoTy"
      },
      "outputs": [],
      "source": [
        "def gradient_descent(x,y,w_in,b_in,alpha,iter,fun_cost,fun_grad):\n",
        "    w = copy.deepcopy(w_in)\n",
        "    b = b_in\n",
        "    j = []\n",
        "    for i in range(iter):\n",
        "        djw,djb = fun_grad(x,y,w_in,b_in)\n",
        "        w = w - alpha*djw\n",
        "        b = b - alpha*djb\n",
        "        if i<100000:\n",
        "            j.append(fun_cost(x,y,w,b))\n",
        "        if i% math.ceil(iter / 10) == 0:\n",
        "            print(f\"Iteration {i:4d}: Cost {j[-1]:8.2f}   \")\n",
        "    return w,b,j"
      ]
    },
    {
      "cell_type": "code",
      "execution_count": 11,
      "metadata": {
        "id": "8J0cvE12yoTy"
      },
      "outputs": [],
      "source": [
        "#df = pd.read_csv('happy_index.csv')\n",
        "df = pd.read_csv('https://raw.githubusercontent.com/Manish-Kaswan/ML-colab-notebooks/main/happy_index.csv',sep = ',')\n",
        "\n",
        "y = df['Score'].values\n",
        "selected_col = ['GDP per capita','Social support','Healthy life expectancy','Freedom to make life choices','Generosity','Perceptions of corruption']\n",
        "x = df[selected_col].values\n",
        "\n"
      ]
    },
    {
      "cell_type": "code",
      "execution_count": 12,
      "metadata": {
        "id": "WSwQZTO5yoTz"
      },
      "outputs": [],
      "source": [
        "x_train = x[:150]\n",
        "x_test = x[150:]\n",
        "y_train = y[:150]\n",
        "y_test = y[150:]\n"
      ]
    },
    {
      "cell_type": "code",
      "execution_count": 17,
      "metadata": {
        "colab": {
          "base_uri": "https://localhost:8080/"
        },
        "id": "_4U2q5moyoTz",
        "outputId": "190344ec-e9a6-4cf7-b346-bdb31992bae3"
      },
      "outputs": [
        {
          "output_type": "stream",
          "name": "stdout",
          "text": [
            "Iteration    0: Cost    15.64   \n",
            "Iteration 1000: Cost    12.62   \n",
            "Iteration 2000: Cost     9.94   \n",
            "Iteration 3000: Cost     7.58   \n",
            "Iteration 4000: Cost     5.55   \n",
            "Iteration 5000: Cost     3.84   \n",
            "Iteration 6000: Cost     2.46   \n",
            "Iteration 7000: Cost     1.41   \n",
            "Iteration 8000: Cost     0.69   \n",
            "Iteration 9000: Cost     0.29   \n"
          ]
        }
      ],
      "source": [
        "w_init = np.zeros(x.shape[1])\n",
        "b_init = 0\n",
        "iteration = 10000\n",
        "alpha = 7.0e-6\n",
        "\n",
        "w_final, b_final,j = gradient_descent(x_train,y_train,w_init,b_init,alpha,iteration,compute_cost,gradient)"
      ]
    },
    {
      "cell_type": "code",
      "execution_count": 23,
      "metadata": {
        "colab": {
          "base_uri": "https://localhost:8080/"
        },
        "id": "SDw36RYPyoTz",
        "outputId": "8649257f-d5ba-4403-fedc-4f90bf69d337"
      },
      "outputs": [
        {
          "output_type": "stream",
          "name": "stdout",
          "text": [
            "[0.22130660018557657, 0.22139955312459791, 0.22149283312853565]\n"
          ]
        }
      ],
      "source": [
        "print(j[-3:])"
      ]
    },
    {
      "cell_type": "code",
      "execution_count": 19,
      "metadata": {
        "colab": {
          "base_uri": "https://localhost:8080/"
        },
        "id": "sB-JQXjzyoTz",
        "outputId": "e202f679-cfb8-43fe-d66c-1340508a0062"
      },
      "outputs": [
        {
          "output_type": "stream",
          "name": "stdout",
          "text": [
            "w_final:[1.44084219 1.44084219 1.44084219 1.44084219 1.44084219 1.44084219], b_final: 0.38473073333326957\n"
          ]
        }
      ],
      "source": [
        "print(f'w_final:{w_final}, b_final: {b_final}')"
      ]
    },
    {
      "cell_type": "code",
      "execution_count": 20,
      "metadata": {
        "colab": {
          "base_uri": "https://localhost:8080/"
        },
        "id": "dDdz-SY4yoT0",
        "outputId": "76db59fa-7385-4093-e773-b3b6f0cfe009"
      },
      "outputs": [
        {
          "output_type": "stream",
          "name": "stdout",
          "text": [
            "[7.668187978846169, 7.885755148791263, 8.039925262593416, 7.722939981878711, 7.724380824063776, 7.888636833161397]\n",
            "[3.38  3.334 3.231 3.203 3.083 2.853]\n"
          ]
        }
      ],
      "source": [
        "m1 = x_test.shape[0]\n",
        "pred = []\n",
        "for i in range(m1):\n",
        "    pred.append(np.dot(x_train[i],w_final) + b_final)\n",
        "print(pred)\n",
        "print(y_test)"
      ]
    },
    {
      "cell_type": "code",
      "execution_count": 21,
      "metadata": {
        "colab": {
          "base_uri": "https://localhost:8080/"
        },
        "id": "7Z1BvvZCyoT0",
        "outputId": "ccb8ee53-a151-4de1-bc48-e7bc3ac6396c"
      },
      "outputs": [
        {
          "output_type": "stream",
          "name": "stdout",
          "text": [
            "0.5414859397695219\n"
          ]
        }
      ],
      "source": [
        "print(compute_cost(x_test,y_test,w_final,b_final))"
      ]
    }
  ],
  "metadata": {
    "kernelspec": {
      "display_name": "Python 3",
      "language": "python",
      "name": "python3"
    },
    "language_info": {
      "codemirror_mode": {
        "name": "ipython",
        "version": 3
      },
      "file_extension": ".py",
      "mimetype": "text/x-python",
      "name": "python",
      "nbconvert_exporter": "python",
      "pygments_lexer": "ipython3",
      "version": "3.11.0"
    },
    "colab": {
      "provenance": [],
      "include_colab_link": true
    }
  },
  "nbformat": 4,
  "nbformat_minor": 0
}