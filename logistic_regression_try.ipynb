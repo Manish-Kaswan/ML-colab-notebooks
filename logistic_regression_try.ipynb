{
  "cells": [
    {
      "cell_type": "markdown",
      "metadata": {
        "colab_type": "text",
        "id": "view-in-github"
      },
      "source": [
        "<a href=\"https://colab.research.google.com/github/Manish-Kaswan/ML-colab-notebooks/blob/main/logistic_regression_try.ipynb\" target=\"_parent\"><img src=\"https://colab.research.google.com/assets/colab-badge.svg\" alt=\"Open In Colab\"/></a>"
      ]
    },
    {
      "cell_type": "code",
      "execution_count": 1,
      "metadata": {
        "id": "dt0hBpZktckR"
      },
      "outputs": [],
      "source": [
        "import numpy as np\n",
        "import matplotlib.pyplot as plt\n",
        "import copy\n",
        "import math"
      ]
    },
    {
      "cell_type": "code",
      "execution_count": 2,
      "metadata": {
        "id": "CHzYp1IDtjly"
      },
      "outputs": [],
      "source": [
        "x = np.array([1,2,3,4,5,6,7,8,9,10,11,12,13,14])\n",
        "y = np.array([0,0,0,0,0,0,0,0,0,0,1,1,1,1])"
      ]
    },
    {
      "cell_type": "code",
      "execution_count": 3,
      "metadata": {
        "colab": {
          "base_uri": "https://localhost:8080/",
          "height": 430
        },
        "id": "Fj3QJBh3tv2k",
        "outputId": "378d92ec-0b48-4858-b6bd-334a00f17265"
      },
      "outputs": [
        {
          "data": {
            "image/png": "[encoded data removed]",
            "text/plain": [
              "<Figure size 640x480 with 1 Axes>"
            ]
          },
          "metadata": {},
          "output_type": "display_data"
        }
      ],
      "source": [
        "plt.plot(x,y)\n",
        "plt.show()\n",
        "x = x.reshape(-1,1)\n",
        "y = y.reshape(-1,1)"
      ]
    },
    {
      "cell_type": "code",
      "execution_count": 4,
      "metadata": {
        "id": "ap99yze8t_G-"
      },
      "outputs": [],
      "source": [
        "def compute_gradient_logistic(X, y, w, b):\n",
        "    \"\"\"\n",
        "    Computes the gradient for linear regression\n",
        "\n",
        "    Args:\n",
        "      X (ndarray (m,n): Data, m examples with n features\n",
        "      y (ndarray (m,)): target values\n",
        "      w (ndarray (n,)): model parameters\n",
        "      b (scalar)      : model parameter\n",
        "    Returns\n",
        "      dj_dw (ndarray (n,)): The gradient of the cost w.r.t. the parameters w.\n",
        "      dj_db (scalar)      : The gradient of the cost w.r.t. the parameter b.\n",
        "    \"\"\"\n",
        "    m,n = X.shape\n",
        "    dj_dw = np.zeros((n,))                           #(n,)\n",
        "    dj_db = 0.\n",
        "\n",
        "    for i in range(m):\n",
        "        f_wb_i = sigmoid(np.dot(X[i],w) + b)          #(n,)(n,)=scalar\n",
        "        err_i  = f_wb_i  - y[i]                       #scalar\n",
        "        for j in range(n):\n",
        "            dj_dw[j] = dj_dw[j] + err_i * X[i,j]      #scalar\n",
        "        dj_db = dj_db + err_i\n",
        "    dj_dw = dj_dw/m                                   #(n,)\n",
        "    dj_db = dj_db/m                                   #scalar\n",
        "\n",
        "    return dj_db, dj_dw"
      ]
    },
    {
      "cell_type": "code",
      "execution_count": 5,
      "metadata": {
        "id": "S3ppVbZ-wB_o"
      },
      "outputs": [],
      "source": [
        "def sigmoid(z):\n",
        "    \"\"\"\n",
        "    Compute the sigmoid of z\n",
        "\n",
        "    Parameters\n",
        "    ----------\n",
        "    z : array_like\n",
        "        A scalar or numpy array of any size.\n",
        "\n",
        "    Returns\n",
        "    -------\n",
        "     g : array_like\n",
        "         sigmoid(z)\n",
        "    \"\"\"\n",
        "    z = np.clip( z, -500, 500 )           # protect against overflow\n",
        "    g = 1.0/(1.0+np.exp(-z))\n",
        "\n",
        "    return g"
      ]
    },
    {
      "cell_type": "code",
      "execution_count": 15,
      "metadata": {
        "id": "jvMUNsptvh3p"
      },
      "outputs": [],
      "source": [
        "def compute_cost_logistic(X, y, w, b, lambda_=0, safe=False):\n",
        "    \"\"\"\n",
        "    Computes cost using logistic loss, non-matrix version\n",
        "\n",
        "    Args:\n",
        "      X (ndarray): Shape (m,n)  matrix of examples with n features\n",
        "      y (ndarray): Shape (m,)   target values\n",
        "      w (ndarray): Shape (n,)   parameters for prediction\n",
        "      b (scalar):               parameter  for prediction\n",
        "      lambda_ : (scalar, float) Controls amount of regularization, 0 = no regularization\n",
        "      safe : (boolean)          True-selects under/overflow safe algorithm\n",
        "    Returns:\n",
        "      cost (scalar): cost\n",
        "    \"\"\"\n",
        "\n",
        "    m,n = X.shape\n",
        "    cost = 0.0\n",
        "    for i in range(m):\n",
        "        z_i    = np.dot(X[i],w) + b                                             #(n,)(n,) or (n,) ()\n",
        "        if safe:  #avoids overflows\n",
        "            cost += -(y[i] * z_i ) + log_1pexp(z_i)\n",
        "        else:\n",
        "            f_wb_i = sigmoid(z_i)                                                   #(n,)\n",
        "            cost += -y[i] * np.log(f_wb_i + 1e-8) - (1 - y[i]) * np.log(1 - f_wb_i + 1e-8)       # scalar\n",
        "    cost = cost/m\n",
        "\n",
        "    reg_cost = 0\n",
        "    if lambda_ != 0:\n",
        "        for j in range(n):\n",
        "            reg_cost += (w[j]**2)                                               # scalar\n",
        "        reg_cost = (lambda_/(2*m))*reg_cost\n",
        "\n",
        "    return cost + reg_cost\n",
        "\n",
        "\n",
        "def log_1pexp(x, maximum=20):\n",
        "    ''' approximate log(1+exp^x)\n",
        "        https://stats.stackexchange.com/questions/475589/numerical-computation-of-cross-entropy-in-practice\n",
        "    Args:\n",
        "    x   : (ndarray Shape (n,1) or (n,)  input\n",
        "    out : (ndarray Shape matches x      output ~= np.log(1+exp(x))\n",
        "    '''\n",
        "\n",
        "    out  = np.zeros_like(x,dtype=float)\n",
        "    i    = x <= maximum\n",
        "    ni   = np.logical_not(i)\n",
        "\n",
        "    out[i]  = np.log(1 + np.exp(x[i]))\n",
        "    out[ni] = x[ni]\n",
        "    return out"
      ]
    },
    {
      "cell_type": "code",
      "execution_count": 7,
      "metadata": {
        "id": "i3N1oE4zuwMK"
      },
      "outputs": [],
      "source": [
        "def gradient_descent(X, y, w_in, b_in, alpha, num_iters):\n",
        "    \"\"\"\n",
        "    Performs batch gradient descent\n",
        "\n",
        "    Args:\n",
        "      X (ndarray (m,n)   : Data, m examples with n features\n",
        "      y (ndarray (m,))   : target values\n",
        "      w_in (ndarray (n,)): Initial values of model parameters\n",
        "      b_in (scalar)      : Initial values of model parameter\n",
        "      alpha (float)      : Learning rate\n",
        "      num_iters (scalar) : number of iterations to run gradient descent\n",
        "\n",
        "    Returns:\n",
        "      w (ndarray (n,))   : Updated values of parameters\n",
        "      b (scalar)         : Updated value of parameter\n",
        "    \"\"\"\n",
        "    # An array to store cost J and w's at each iteration primarily for graphing later\n",
        "    J_history = []\n",
        "    w = copy.deepcopy(w_in)  #avoid modifying global w within function\n",
        "    b = b_in\n",
        "\n",
        "    for i in range(num_iters):\n",
        "        # Calculate the gradient and update the parameters\n",
        "        dj_db, dj_dw = compute_gradient_logistic(X, y, w, b)\n",
        "\n",
        "        # Update Parameters using w, b, alpha and gradient\n",
        "        w = w - alpha * dj_dw\n",
        "        b = b - alpha * dj_db\n",
        "\n",
        "        # Save cost J at each iteration\n",
        "        if i<100000:      # prevent resource exhaustion\n",
        "            J_history.append( compute_cost_logistic(X, y, w, b) )\n",
        "\n",
        "        # Print cost every at intervals 10 times or as many iterations if < 10\n",
        "        if i% math.ceil(num_iters / 10) == 0:\n",
        "            print(f\"Iteration {i:4d}: Cost {J_history[-1]}   \")\n",
        "\n",
        "    return w, b, J_history         #return final w,b and J history for graphing\n"
      ]
    },
    {
      "cell_type": "code",
      "execution_count": 18,
      "metadata": {
        "colab": {
          "base_uri": "https://localhost:8080/"
        },
        "id": "7KIHszmowYk-",
        "outputId": "68dd1a4a-e971-4d2d-fbfb-0af13b350ac5"
      },
      "outputs": [
        {
          "name": "stderr",
          "output_type": "stream",
          "text": [
            "<ipython-input-4-5c3c1af3bdae>:22: DeprecationWarning: Conversion of an array with ndim > 0 to a scalar is deprecated, and will error in future. Ensure you extract a single element from your array before performing this operation. (Deprecated NumPy 1.25.)\n",
            "  dj_dw[j] = dj_dw[j] + err_i * X[i,j]      #scalar\n"
          ]
        },
        {
          "name": "stdout",
          "output_type": "stream",
          "text": [
            "Iteration    0: Cost [0.68902408]   \n",
            "Iteration 1200: Cost [0.17743587]   \n",
            "Iteration 2400: Cost [0.13528955]   \n",
            "Iteration 3600: Cost [0.11548988]   \n",
            "Iteration 4800: Cost [0.10319037]   \n",
            "Iteration 6000: Cost [0.09452028]   \n",
            "Iteration 7200: Cost [0.08794465]   \n",
            "Iteration 8400: Cost [0.08271259]   \n",
            "Iteration 9600: Cost [0.07840602]   \n",
            "Iteration 10800: Cost [0.07477056]   \n",
            "\n",
            "updated parameters: w:[1.54464482], b:[-16.11429516]\n"
          ]
        }
      ],
      "source": [
        "w_tmp = np.zeros_like(x[0])\n",
        "b_tmp = 0\n",
        "alpha = 0.1\n",
        "iters = 12000\n",
        "w_out, b_out, _ = gradient_descent(x, y, w_tmp, b_tmp, alpha,iters)\n",
        "print(f\"\\nupdated parameters: w:{w_out}, b:{b_out}\")"
      ]
    },
    {
      "cell_type": "code",
      "execution_count": 19,
      "metadata": {
        "id": "DJhRPLowyE9I"
      },
      "outputs": [],
      "source": [
        "x_test = np.array([15,9,17,200,1])\n",
        "y_test = np.array([1,0,1,1,0])\n",
        "x_test = x_test.reshape(-1,1)\n",
        "y_test = y_test.reshape(-1,1)\n",
        "#print(compute_cost_logistic(x_test,y_test,w_out,b_out))"
      ]
    },
    {
      "cell_type": "code",
      "execution_count": 20,
      "metadata": {
        "colab": {
          "base_uri": "https://localhost:8080/"
        },
        "id": "8Ec4FYQiykT8",
        "outputId": "e7e0e7f7-f787-4ce8-e60f-06b0e65b92d0"
      },
      "outputs": [
        {
          "name": "stdout",
          "output_type": "stream",
          "text": [
            "[array([0.99913799]), array([0.09863432]), array([0.99996072]), array([1.]), array([4.70414881e-07])]\n",
            "[0.02094927]\n"
          ]
        }
      ],
      "source": [
        "#w_out = 1.45\n",
        "#b_out = -15.07\n",
        "y_pred = []\n",
        "for i in range(x_test.shape[0]):\n",
        "  y_pred.append(sigmoid(x_test[i]*w_out+b_out))\n",
        "print(y_pred)\n",
        "print(compute_cost_logistic(x_test,y_test,w_out,b_out))\n",
        "print(compute_cost_logistic(x_test,y_pred,w_out,b_out))"
      ]
    }
  ],
  "metadata": {
    "colab": {
      "authorship_tag": "ABX9TyMGKByl0gKnQXJ52AR7k3Ty",
      "include_colab_link": true,
      "provenance": []
    },
    "kernelspec": {
      "display_name": "Python 3",
      "name": "python3"
    },
    "language_info": {
      "name": "python"
    }
  },
  "nbformat": 4,
  "nbformat_minor": 0
}
